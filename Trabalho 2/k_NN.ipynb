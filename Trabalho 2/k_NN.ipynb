{
  "nbformat": 4,
  "nbformat_minor": 0,
  "metadata": {
    "colab": {
      "provenance": []
    },
    "kernelspec": {
      "name": "python3",
      "display_name": "Python 3"
    },
    "language_info": {
      "name": "python"
    }
  },
  "cells": [
    {
      "cell_type": "code",
      "execution_count": null,
      "metadata": {
        "id": "xYYrYMCNu0GZ"
      },
      "outputs": [],
      "source": [
        "import matplotlib.pyplot as plt\n",
        "import numpy as np\n",
        "import scipy.io as scipy\n",
        "from scipy.stats import mode"
      ]
    },
    {
      "cell_type": "code",
      "source": [
        "# Função meuKnn\n",
        "\n",
        "def meuKnn(dadosTrain, rotuloTrain, dadosTeste, k):\n",
        "    previsoes = []\n",
        "\n",
        "    for teste in dadosTeste:\n",
        "        distancias = np.linalg.norm(dadosTrain - teste, axis=1)\n",
        "\n",
        "        indices_k_vizinhos = np.argsort(distancias)[:k]\n",
        "        rotulos_k_vizinhos = rotuloTrain[indices_k_vizinhos]\n",
        "\n",
        "        # valores, contagens = np.unique(rotulos_k_vizinhos, return_counts=True)\n",
        "        # rotulo_predito = valores[np.argmax(contagens)]\n",
        "\n",
        "        rotulo_predito = mode(rotulos_k_vizinhos, keepdims=False).mode\n",
        "\n",
        "        previsoes.append(rotulo_predito)\n",
        "\n",
        "    return np.array(previsoes)\n",
        "\n",
        "# np.linalg.norm(dadosTrain - teste, axis=1): calcula a distância Euclidiana de um exemplo de teste para todos os exemplos de treino.\n",
        "# np.argsort(distancias)[:k]: ordena as distâncias e pega os índices dos k vizinhos mais próximos.\n",
        "# np.unique(..., return_counts=True): conta quantas vezes cada rótulo aparece entre os vizinhos.\n",
        "# np.argmax(contagens): escolhe o rótulo que mais apareceu (votação majoritária)."
      ],
      "metadata": {
        "id": "UV2Ig4Wxu4ow"
      },
      "execution_count": null,
      "outputs": []
    },
    {
      "cell_type": "code",
      "source": [
        "mat = scipy.loadmat('grupoDados1.mat')\n",
        "\n",
        "grupoTest = mat['grupoTest']\n",
        "grupoTrain = mat['grupoTrain']\n",
        "trainRots = mat['trainRots'].ravel()\n",
        "testRots = mat['testRots'].ravel()\n",
        "\n",
        "# .ravel() para transformar em vetor 1D\n",
        "\n",
        "rotuloPrevisto = meuKnn(grupoTrain, trainRots, grupoTest, 1);\n",
        "estaCorreto = rotuloPrevisto == testRots;\n",
        "numCorreto = sum(estaCorreto);\n",
        "totalNum = len(testRots);\n",
        "\n",
        "acuracia = numCorreto / totalNum\n",
        "\n",
        "print(f\"Acurácia: {acuracia*100:.2f}% ({numCorreto}/{totalNum})\")\n",
        "\n",
        "# trainRots e testRots precisam ser \"achatados\" (.ravel()) porque o scipy.loadmat carrega tudo como matrizes 2D, mas queremos vetores 1D\n",
        "# para comparação.\n",
        "# O cálculo da acurácia é simples: número de acertos dividido pelo total.\n",
        "# O sum do Python virou np.sum, e o length virou len."
      ],
      "metadata": {
        "colab": {
          "base_uri": "https://localhost:8080/"
        },
        "id": "0-8Egi1ovbkQ",
        "outputId": "e2d1da63-0c57-417a-f039-aca4d189488c"
      },
      "execution_count": null,
      "outputs": [
        {
          "output_type": "stream",
          "name": "stdout",
          "text": [
            "Acurácia: 96.00% (48/50)\n"
          ]
        }
      ]
    },
    {
      "cell_type": "code",
      "source": [
        "rotuloPrevisto = meuKnn(grupoTrain, trainRots, grupoTest, k=10)\n",
        "\n",
        "# 4 e 6 - 98.00%\n",
        "\n",
        "estaCorreto = rotuloPrevisto == testRots;\n",
        "numCorreto = sum(estaCorreto);\n",
        "totalNum = len(testRots);\n",
        "\n",
        "acuracia = numCorreto / totalNum\n",
        "\n",
        "print(f\"Acurácia: {acuracia*100:.2f}% ({numCorreto}/{totalNum})\")"
      ],
      "metadata": {
        "colab": {
          "base_uri": "https://localhost:8080/"
        },
        "id": "HyPPZ-Uz0bHw",
        "outputId": "450ad129-3a15-4cfe-8ac3-bbfa7fb77532"
      },
      "execution_count": null,
      "outputs": [
        {
          "output_type": "stream",
          "name": "stdout",
          "text": [
            "Acurácia: 94.00% (47/50)\n"
          ]
        }
      ]
    },
    {
      "cell_type": "code",
      "source": [
        "def getDadosRotulo(dados, rotulos, rotulo, indice):\n",
        "\n",
        "    ret = []\n",
        "    for idx in range(0, len(dados)):\n",
        "        if(rotulos[idx] == rotulo):\n",
        "\n",
        "            ret.append(dados[idx][indice])\n",
        "\n",
        "    return ret\n",
        "\n",
        "getDadosRotulo(grupoTrain, trainRots, 1, 0)"
      ],
      "metadata": {
        "colab": {
          "base_uri": "https://localhost:8080/"
        },
        "id": "sMpNmx_zx7JJ",
        "outputId": "9c699159-19b4-4151-a99b-4811bce7869d"
      },
      "execution_count": null,
      "outputs": [
        {
          "output_type": "execute_result",
          "data": {
            "text/plain": [
              "[np.float64(5.1),\n",
              " np.float64(4.9),\n",
              " np.float64(4.6),\n",
              " np.float64(5.0),\n",
              " np.float64(4.6),\n",
              " np.float64(5.0),\n",
              " np.float64(4.9),\n",
              " np.float64(5.4),\n",
              " np.float64(4.8),\n",
              " np.float64(4.3),\n",
              " np.float64(5.7),\n",
              " np.float64(5.4),\n",
              " np.float64(5.7),\n",
              " np.float64(5.1),\n",
              " np.float64(5.1),\n",
              " np.float64(4.6),\n",
              " np.float64(4.8),\n",
              " np.float64(5.0),\n",
              " np.float64(5.2),\n",
              " np.float64(5.2),\n",
              " np.float64(4.8),\n",
              " np.float64(5.4),\n",
              " np.float64(5.5),\n",
              " np.float64(4.9),\n",
              " np.float64(5.5),\n",
              " np.float64(4.9),\n",
              " np.float64(5.1),\n",
              " np.float64(5.0),\n",
              " np.float64(4.4),\n",
              " np.float64(5.0),\n",
              " np.float64(4.8),\n",
              " np.float64(5.1),\n",
              " np.float64(5.3),\n",
              " np.float64(5.0)]"
            ]
          },
          "metadata": {},
          "execution_count": 5
        }
      ]
    },
    {
      "cell_type": "code",
      "source": [
        "def visualizaPontos(dados, rotulos, d1, d2):\n",
        "\n",
        "    fig, ax = plt.subplots()\n",
        "\n",
        "    ax.scatter(getDadosRotulo(dados, rotulos, 1, d1), getDadosRotulo(dados, rotulos, 1, d2), c='red' , marker='^')\n",
        "    ax.scatter(getDadosRotulo(dados, rotulos, 2, d1), getDadosRotulo(dados, rotulos, 2, d2), c='blue' , marker='+')\n",
        "    ax.scatter(getDadosRotulo(dados, rotulos, 3, d1), getDadosRotulo(dados, rotulos, 3, d2), c='green', marker='.')\n",
        "\n",
        "    plt.show()"
      ],
      "metadata": {
        "id": "En5nfvyOx8_i"
      },
      "execution_count": null,
      "outputs": []
    },
    {
      "cell_type": "code",
      "source": [
        "visualizaPontos(grupoTrain, trainRots, 0, 1)"
      ],
      "metadata": {
        "colab": {
          "base_uri": "https://localhost:8080/",
          "height": 433
        },
        "id": "6i4xipsSy6hz",
        "outputId": "6e7e2c79-bef3-4874-c93c-a608901a2ef2"
      },
      "execution_count": null,
      "outputs": [
        {
          "output_type": "display_data",
          "data": {
            "text/plain": [
              "<Figure size 640x480 with 1 Axes>"
            ],
            "image/png": "[encoded data removed]"
          },
          "metadata": {}
        }
      ]
    },
    {
      "cell_type": "code",
      "source": [
        "# Grupo de Dados 1:\n",
        "\n",
        "# O grupoDados1 é um conjunto de dados de flores. Para mais informações consulte: http://archive.ics.uci.edu/ml/datasets/Iris .\n",
        "\n",
        "# Q1.1. Qual é a acurácia máxima que você consegue da classificação? 3, 4 e 6\n",
        "\n",
        "rotuloPrevisto = meuKnn(grupoTrain, trainRots, grupoTest, k=3)\n",
        "\n",
        "estaCorreto = rotuloPrevisto == testRots;\n",
        "numCorreto = sum(estaCorreto);\n",
        "totalNum = len(testRots);\n",
        "\n",
        "acuracia = numCorreto / totalNum\n",
        "\n",
        "print(f\"Acurácia: {acuracia*100:.2f}% ({numCorreto}/{totalNum})\")\n",
        "\n",
        "###################################################################\n",
        "\n",
        "rotuloPrevisto = meuKnn(grupoTrain, trainRots, grupoTest, k=4)\n",
        "\n",
        "estaCorreto = rotuloPrevisto == testRots;\n",
        "numCorreto = sum(estaCorreto);\n",
        "totalNum = len(testRots);\n",
        "\n",
        "acuracia = numCorreto / totalNum\n",
        "\n",
        "print(f\"Acurácia: {acuracia*100:.2f}% ({numCorreto}/{totalNum})\")\n",
        "\n",
        "##################################################################\n",
        "\n",
        "rotuloPrevisto = meuKnn(grupoTrain, trainRots, grupoTest, k=6)\n",
        "\n",
        "estaCorreto = rotuloPrevisto == testRots;\n",
        "numCorreto = sum(estaCorreto);\n",
        "totalNum = len(testRots);\n",
        "\n",
        "acuracia = numCorreto / totalNum\n",
        "\n",
        "print(f\"Acurácia: {acuracia*100:.2f}% ({numCorreto}/{totalNum})\")"
      ],
      "metadata": {
        "colab": {
          "base_uri": "https://localhost:8080/"
        },
        "id": "OxiRUU2X_rUA",
        "outputId": "a7682ef3-ffc8-4bcd-ad3e-b7ec38249d97"
      },
      "execution_count": null,
      "outputs": [
        {
          "output_type": "stream",
          "name": "stdout",
          "text": [
            "Acurácia: 98.00% (49/50)\n",
            "Acurácia: 98.00% (49/50)\n",
            "Acurácia: 98.00% (49/50)\n"
          ]
        }
      ]
    },
    {
      "cell_type": "code",
      "source": [
        "# Q1.2. É necessário ter todas as características (atributos) para obter a acurácia máxima para esta classificação?"
      ],
      "metadata": {
        "id": "M56k5Ne4_rPn"
      },
      "execution_count": null,
      "outputs": []
    }
  ]
}